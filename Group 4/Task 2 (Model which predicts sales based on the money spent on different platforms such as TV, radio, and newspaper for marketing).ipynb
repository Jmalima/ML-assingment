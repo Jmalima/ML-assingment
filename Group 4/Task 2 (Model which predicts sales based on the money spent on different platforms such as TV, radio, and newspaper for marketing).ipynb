{
 "cells": [
  {
   "cell_type": "code",
   "execution_count": 1,
   "id": "5e100ea0",
   "metadata": {},
   "outputs": [],
   "source": [
    "import pandas as pd\n",
    "import numpy as np\n",
    "import matplotlib.pyplot as plt\n",
    "\n",
    "from sklearn.linear_model import LinearRegression\n",
    "from sklearn.model_selection import train_test_split\n",
    "from sklearn.metrics import mean_squared_error, r2_score"
   ]
  },
  {
   "cell_type": "code",
   "execution_count": 2,
   "id": "9ea75ad1",
   "metadata": {},
   "outputs": [],
   "source": [
    "df = pd.read_csv('dataset/04-advertising_dataset.csv')"
   ]
  },
  {
   "cell_type": "code",
   "execution_count": 3,
   "id": "69f4117f",
   "metadata": {},
   "outputs": [
    {
     "data": {
      "text/plain": [
       "(200, 4)"
      ]
     },
     "execution_count": 3,
     "metadata": {},
     "output_type": "execute_result"
    }
   ],
   "source": [
    "df.shape"
   ]
  },
  {
   "cell_type": "code",
   "execution_count": 4,
   "id": "c54a2e27",
   "metadata": {},
   "outputs": [
    {
     "data": {
      "text/html": [
       "<div>\n",
       "<style scoped>\n",
       "    .dataframe tbody tr th:only-of-type {\n",
       "        vertical-align: middle;\n",
       "    }\n",
       "\n",
       "    .dataframe tbody tr th {\n",
       "        vertical-align: top;\n",
       "    }\n",
       "\n",
       "    .dataframe thead th {\n",
       "        text-align: right;\n",
       "    }\n",
       "</style>\n",
       "<table border=\"1\" class=\"dataframe\">\n",
       "  <thead>\n",
       "    <tr style=\"text-align: right;\">\n",
       "      <th></th>\n",
       "      <th>TV</th>\n",
       "      <th>Radio</th>\n",
       "      <th>Newspaper</th>\n",
       "      <th>Sales</th>\n",
       "    </tr>\n",
       "  </thead>\n",
       "  <tbody>\n",
       "    <tr>\n",
       "      <th>count</th>\n",
       "      <td>200.000000</td>\n",
       "      <td>200.000000</td>\n",
       "      <td>200.000000</td>\n",
       "      <td>200.000000</td>\n",
       "    </tr>\n",
       "    <tr>\n",
       "      <th>mean</th>\n",
       "      <td>147.042500</td>\n",
       "      <td>23.264000</td>\n",
       "      <td>30.554000</td>\n",
       "      <td>15.130500</td>\n",
       "    </tr>\n",
       "    <tr>\n",
       "      <th>std</th>\n",
       "      <td>85.854236</td>\n",
       "      <td>14.846809</td>\n",
       "      <td>21.778621</td>\n",
       "      <td>5.283892</td>\n",
       "    </tr>\n",
       "    <tr>\n",
       "      <th>min</th>\n",
       "      <td>0.700000</td>\n",
       "      <td>0.000000</td>\n",
       "      <td>0.300000</td>\n",
       "      <td>1.600000</td>\n",
       "    </tr>\n",
       "    <tr>\n",
       "      <th>25%</th>\n",
       "      <td>74.375000</td>\n",
       "      <td>9.975000</td>\n",
       "      <td>12.750000</td>\n",
       "      <td>11.000000</td>\n",
       "    </tr>\n",
       "    <tr>\n",
       "      <th>50%</th>\n",
       "      <td>149.750000</td>\n",
       "      <td>22.900000</td>\n",
       "      <td>25.750000</td>\n",
       "      <td>16.000000</td>\n",
       "    </tr>\n",
       "    <tr>\n",
       "      <th>75%</th>\n",
       "      <td>218.825000</td>\n",
       "      <td>36.525000</td>\n",
       "      <td>45.100000</td>\n",
       "      <td>19.050000</td>\n",
       "    </tr>\n",
       "    <tr>\n",
       "      <th>max</th>\n",
       "      <td>296.400000</td>\n",
       "      <td>49.600000</td>\n",
       "      <td>114.000000</td>\n",
       "      <td>27.000000</td>\n",
       "    </tr>\n",
       "  </tbody>\n",
       "</table>\n",
       "</div>"
      ],
      "text/plain": [
       "               TV       Radio   Newspaper       Sales\n",
       "count  200.000000  200.000000  200.000000  200.000000\n",
       "mean   147.042500   23.264000   30.554000   15.130500\n",
       "std     85.854236   14.846809   21.778621    5.283892\n",
       "min      0.700000    0.000000    0.300000    1.600000\n",
       "25%     74.375000    9.975000   12.750000   11.000000\n",
       "50%    149.750000   22.900000   25.750000   16.000000\n",
       "75%    218.825000   36.525000   45.100000   19.050000\n",
       "max    296.400000   49.600000  114.000000   27.000000"
      ]
     },
     "execution_count": 4,
     "metadata": {},
     "output_type": "execute_result"
    }
   ],
   "source": [
    "df.describe()"
   ]
  },
  {
   "cell_type": "code",
   "execution_count": 5,
   "id": "490fd924",
   "metadata": {},
   "outputs": [
    {
     "data": {
      "text/plain": [
       "<function matplotlib.pyplot.show(close=None, block=None)>"
      ]
     },
     "execution_count": 5,
     "metadata": {},
     "output_type": "execute_result"
    },
    {
     "data": {
      "image/png": "[encoded data removed]",
      "text/plain": [
       "<Figure size 432x288 with 1 Axes>"
      ]
     },
     "metadata": {
      "needs_background": "light"
     },
     "output_type": "display_data"
    }
   ],
   "source": [
    "#correlation btn TV and sales\n",
    "df.plot(x='TV', y='Sales', style='o')\n",
    "plt.title('TV vs Sales')\n",
    "#plt.xticks(np.arange(min(df['TV']), max(df['TV'])+5,50.0))\n",
    "plt.xlabel('TV')\n",
    "plt.ylabel('sales')\n",
    "plt.show"
   ]
  },
  {
   "cell_type": "code",
   "execution_count": 6,
   "id": "4266873a",
   "metadata": {},
   "outputs": [
    {
     "data": {
      "text/plain": [
       "<function matplotlib.pyplot.show(close=None, block=None)>"
      ]
     },
     "execution_count": 6,
     "metadata": {},
     "output_type": "execute_result"
    },
    {
     "data": {
      "image/png": "[encoded data removed]",
      "text/plain": [
       "<Figure size 432x288 with 1 Axes>"
      ]
     },
     "metadata": {
      "needs_background": "light"
     },
     "output_type": "display_data"
    }
   ],
   "source": [
    "#correlation btn Radio and sales\n",
    "df.plot(x='Radio', y='Sales', style='o')\n",
    "plt.title('Radio vs Sales')\n",
    "#plt.xticks(np.arange(min(df['Radio']), max(df['Radio'])+5,50.0))\n",
    "plt.xlabel('Radio')\n",
    "plt.ylabel('sales')\n",
    "plt.show"
   ]
  },
  {
   "cell_type": "code",
   "execution_count": 7,
   "id": "7a78e0fb",
   "metadata": {},
   "outputs": [
    {
     "data": {
      "text/plain": [
       "<function matplotlib.pyplot.show(close=None, block=None)>"
      ]
     },
     "execution_count": 7,
     "metadata": {},
     "output_type": "execute_result"
    },
    {
     "data": {
      "image/png": "[encoded data removed]",
      "text/plain": [
       "<Figure size 432x288 with 1 Axes>"
      ]
     },
     "metadata": {
      "needs_background": "light"
     },
     "output_type": "display_data"
    }
   ],
   "source": [
    "#correlation btn Radio and sales\n",
    "df.plot(x='Newspaper', y='Sales', style='o')\n",
    "plt.title('Newspaper vs Sales')\n",
    "#plt.xticks(np.arange(min(df['Radio']), max(df['Radio'])+5,50.0))\n",
    "plt.xlabel('Newspaper')\n",
    "plt.ylabel('sales')\n",
    "plt.show"
   ]
  },
  {
   "cell_type": "code",
   "execution_count": 8,
   "id": "2dbb84e4",
   "metadata": {},
   "outputs": [],
   "source": [
    "# TV vs sales has the best correlation so the Linear Regression model will be TV vs Sales"
   ]
  },
  {
   "cell_type": "code",
   "execution_count": 9,
   "id": "97006a02",
   "metadata": {},
   "outputs": [],
   "source": [
    "x = df.iloc[:,:-3]\n",
    "y = df.iloc[:,3]  # = df.iloc[:,df.shape[1]-1]"
   ]
  },
  {
   "cell_type": "code",
   "execution_count": 18,
   "id": "933ff833",
   "metadata": {},
   "outputs": [],
   "source": [
    "x_train,x_test,y_train,y_test = train_test_split(x,y,test_size=0.25,random_state=42)"
   ]
  },
  {
   "cell_type": "code",
   "execution_count": 31,
   "id": "9e762a48",
   "metadata": {},
   "outputs": [
    {
     "data": {
      "text/plain": [
       "LinearRegression()"
      ]
     },
     "execution_count": 31,
     "metadata": {},
     "output_type": "execute_result"
    }
   ],
   "source": [
    "model = LinearRegression()\n",
    "model.fit(x_train,y_train)"
   ]
  },
  {
   "cell_type": "code",
   "execution_count": 32,
   "id": "cffa80f5",
   "metadata": {},
   "outputs": [],
   "source": [
    "y_pred = model.predict(x_test)"
   ]
  },
  {
   "cell_type": "code",
   "execution_count": 33,
   "id": "dab9666c",
   "metadata": {},
   "outputs": [
    {
     "name": "stdout",
     "output_type": "stream",
     "text": [
      "w = [0.05538653]\n",
      "b= 7.098853680118275\n"
     ]
    }
   ],
   "source": [
    "print(f'w = {model.coef_}')\n",
    "print(f'b= {model.intercept_}')"
   ]
  },
  {
   "cell_type": "code",
   "execution_count": 34,
   "id": "03ddeb28",
   "metadata": {},
   "outputs": [
    {
     "name": "stdout",
     "output_type": "stream",
     "text": [
      "Coefficient of determination of simple Linear Regression: 0.7971876919875108\n",
      "Mean square error of simple Linear Regression: 5.513351187165511\n"
     ]
    }
   ],
   "source": [
    "print(\"Coefficient of determination of simple Linear Regression:\",r2_score(y_test,y_pred))\n",
    "print(\"Mean square error of simple Linear Regression:\",mean_squared_error(y_test,y_pred))"
   ]
  },
  {
   "cell_type": "code",
   "execution_count": 35,
   "id": "df7972e6",
   "metadata": {},
   "outputs": [],
   "source": [
    "# the below are the Multiple Linear Regressio model"
   ]
  },
  {
   "cell_type": "code",
   "execution_count": 36,
   "id": "79d9b577",
   "metadata": {},
   "outputs": [],
   "source": [
    "X= df.iloc[:,:-1]\n",
    "Y = df.iloc[:,3]  # = df.iloc[:,df.shape[1]-1]"
   ]
  },
  {
   "cell_type": "code",
   "execution_count": 37,
   "id": "f1a07dae",
   "metadata": {},
   "outputs": [],
   "source": [
    "X_train,X_test,Y_train,Y_test = train_test_split(X,Y,test_size = 0.25,random_state=42 )"
   ]
  },
  {
   "cell_type": "code",
   "execution_count": 38,
   "id": "2b4b9d0b",
   "metadata": {},
   "outputs": [
    {
     "data": {
      "text/plain": [
       "LinearRegression()"
      ]
     },
     "execution_count": 38,
     "metadata": {},
     "output_type": "execute_result"
    }
   ],
   "source": [
    "model = LinearRegression()\n",
    "model.fit(X_train,Y_train)"
   ]
  },
  {
   "cell_type": "code",
   "execution_count": 39,
   "id": "d217be86",
   "metadata": {},
   "outputs": [],
   "source": [
    "Y_pred = model.predict(X_test)"
   ]
  },
  {
   "cell_type": "code",
   "execution_count": 40,
   "id": "72a987ea",
   "metadata": {},
   "outputs": [
    {
     "name": "stdout",
     "output_type": "stream",
     "text": [
      "w = [0.05461383 0.09975946 0.00430495]\n",
      "b= 4.7418422441245625\n"
     ]
    }
   ],
   "source": [
    "print(f'w = {model.coef_}')\n",
    "print(f'b= {model.intercept_}')"
   ]
  },
  {
   "cell_type": "code",
   "execution_count": 41,
   "id": "c8618dfa",
   "metadata": {},
   "outputs": [
    {
     "name": "stdout",
     "output_type": "stream",
     "text": [
      "Coefficient of determination of multiple Linear Regression : 0.9115647723992758\n",
      "Mean square error  of multiple Linear Regression : 2.4040674447118855\n"
     ]
    }
   ],
   "source": [
    "print(\"Coefficient of determination of multiple Linear Regression :\",r2_score(Y_test,Y_pred))\n",
    "print(\"Mean square error  of multiple Linear Regression :\",mean_squared_error(Y_test,Y_pred))"
   ]
  },
  {
   "cell_type": "code",
   "execution_count": null,
   "id": "b975a84c",
   "metadata": {},
   "outputs": [],
   "source": [
    "# Compare the Mean Squared error and Coefficient of determination for both models\n",
    "Coefficient of determination of simple Linear Regression: 0.7971876919875108 is less than \n",
    "    Coefficient of determination of multiple Linear Regression : 0.9115647723992758\n",
    "        \n",
    "Mean square error of simple Linear Regression: 5.513351187165511 is greater than \n",
    "    Mean square error  of multiple Linear Regression : 2.4040674447118855\n",
    "\n",
    "#\n",
    "Therefore multiple Linear Regression model is the best to make predication of sales based on\n",
    "the money spent on different platforms such as TV, radio, and newspaper for marketingon money\n",
    "because have mean square error is small and coefficient of determination is close to 1\n",
    "#\n",
    "        "
   ]
  }
 ],
 "metadata": {
  "kernelspec": {
   "display_name": "Python 3 (ipykernel)",
   "language": "python",
   "name": "python3"
  },
  "language_info": {
   "codemirror_mode": {
    "name": "ipython",
    "version": 3
   },
   "file_extension": ".py",
   "mimetype": "text/x-python",
   "name": "python",
   "nbconvert_exporter": "python",
   "pygments_lexer": "ipython3",
   "version": "3.9.12"
  }
 },
 "nbformat": 4,
 "nbformat_minor": 5
}
